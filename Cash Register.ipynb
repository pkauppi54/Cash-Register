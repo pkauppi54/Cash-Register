{
 "cells": [
  {
   "cell_type": "code",
   "execution_count": 23,
   "id": "4498e1dc",
   "metadata": {},
   "outputs": [
    {
     "data": {
      "text/plain": [
       "4.166666666666667"
      ]
     },
     "execution_count": 23,
     "metadata": {},
     "output_type": "execute_result"
    }
   ],
   "source": [
    "1/0.24"
   ]
  },
  {
   "cell_type": "code",
   "execution_count": 52,
   "id": "825ec654",
   "metadata": {},
   "outputs": [],
   "source": [
    "def cash_register():\n",
    "    \n",
    "    quarter = 0.25\n",
    "    dime = 0.10\n",
    "    nickel = 0.05\n",
    "    penny = 0.01\n",
    "\n",
    "    quarters = 0\n",
    "    dimes = 0\n",
    "    nickels = 0\n",
    "    pennies = 0    \n",
    "\n",
    "\n",
    "    cost = int(input(\"Enter the cost of your goods: \"))\n",
    "    cash = int(input(\"Enter the amount of cash given: \"))\n",
    "    change = cash-cost   \n",
    "\n",
    "    if change / quarter >= 1:\n",
    "        quarters = round(change / quarter)\n",
    "        current_change = change%quarter\n",
    "\n",
    "    if current_change/dime >= 1:\n",
    "        dimes = round(current_change / d)\n",
    "        current_change = current_change % d\n",
    "\n",
    "    if current_change/nickel >= 1:\n",
    "        nickels = round(current_change / n)\n",
    "        current_change = current_change % n\n",
    "\n",
    "    if current_change/penny >= 1:\n",
    "        pennies = round(current_change / p)\n",
    "\n",
    "    print(f\"\\nquarters:\\t{quarters}\\ndimes:\\t\\t{dimes}\\nnickels:\\t{nickels}\\npennies:\\t{pennies}\")\n",
    "\n",
    "\n"
   ]
  },
  {
   "cell_type": "code",
   "execution_count": 53,
   "id": "ab832c2c",
   "metadata": {},
   "outputs": [
    {
     "name": "stdout",
     "output_type": "stream",
     "text": [
      "Enter the cost of your goods: 1\n",
      "Enter the amount of cash given: 2\n",
      "\n",
      "quarters:\t4\n",
      "dimes:\t\t0\n",
      "nickels:\t0\n",
      "pennies:\t0\n"
     ]
    }
   ],
   "source": [
    "cash_register()"
   ]
  },
  {
   "cell_type": "code",
   "execution_count": null,
   "id": "98b7be98",
   "metadata": {},
   "outputs": [],
   "source": []
  }
 ],
 "metadata": {
  "kernelspec": {
   "display_name": "Python 3",
   "language": "python",
   "name": "python3"
  },
  "language_info": {
   "codemirror_mode": {
    "name": "ipython",
    "version": 3
   },
   "file_extension": ".py",
   "mimetype": "text/x-python",
   "name": "python",
   "nbconvert_exporter": "python",
   "pygments_lexer": "ipython3",
   "version": "3.8.8"
  }
 },
 "nbformat": 4,
 "nbformat_minor": 5
}
